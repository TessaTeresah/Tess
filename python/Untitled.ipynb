{
 "cells": [
  {
   "cell_type": "code",
   "execution_count": 3,
   "id": "033c0752",
   "metadata": {},
   "outputs": [],
   "source": [
    "my_age=30"
   ]
  },
  {
   "cell_type": "code",
   "execution_count": 4,
   "id": "37d974e4",
   "metadata": {},
   "outputs": [],
   "source": [
    "my_name=\"keith\""
   ]
  },
  {
   "cell_type": "code",
   "execution_count": 5,
   "id": "8e13aa10",
   "metadata": {},
   "outputs": [
    {
     "name": "stdout",
     "output_type": "stream",
     "text": [
      "hi keith\n"
     ]
    }
   ],
   "source": [
    "print(\"hi\",my_name)"
   ]
  },
  {
   "cell_type": "code",
   "execution_count": null,
   "id": "739b4a8e",
   "metadata": {},
   "outputs": [],
   "source": []
  }
 ],
 "metadata": {
  "kernelspec": {
   "display_name": "Python 3 (ipykernel)",
   "language": "python",
   "name": "python3"
  },
  "language_info": {
   "codemirror_mode": {
    "name": "ipython",
    "version": 3
   },
   "file_extension": ".py",
   "mimetype": "text/x-python",
   "name": "python",
   "nbconvert_exporter": "python",
   "pygments_lexer": "ipython3",
   "version": "3.9.7"
  }
 },
 "nbformat": 4,
 "nbformat_minor": 5
}
